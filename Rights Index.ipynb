{
 "cells": [
  {
   "cell_type": "code",
   "execution_count": 34,
   "metadata": {},
   "outputs": [],
   "source": [
    "import pandas as pd\n",
    "import os\n",
    "import matplotlib.pyplot as plt\n",
    "import numpy as np\n",
    "import seaborn as sns"
   ]
  },
  {
   "cell_type": "code",
   "execution_count": 17,
   "metadata": {},
   "outputs": [
    {
     "data": {
      "text/html": [
       "<div>\n",
       "<style scoped>\n",
       "    .dataframe tbody tr th:only-of-type {\n",
       "        vertical-align: middle;\n",
       "    }\n",
       "\n",
       "    .dataframe tbody tr th {\n",
       "        vertical-align: top;\n",
       "    }\n",
       "\n",
       "    .dataframe thead th {\n",
       "        text-align: right;\n",
       "    }\n",
       "</style>\n",
       "<table border=\"1\" class=\"dataframe\">\n",
       "  <thead>\n",
       "    <tr style=\"text-align: right;\">\n",
       "      <th></th>\n",
       "      <th>Unnamed: 0</th>\n",
       "      <th>Country</th>\n",
       "      <th>Year</th>\n",
       "      <th>Union %</th>\n",
       "      <th>Gini</th>\n",
       "      <th>CPI</th>\n",
       "    </tr>\n",
       "  </thead>\n",
       "  <tbody>\n",
       "    <tr>\n",
       "      <th>0</th>\n",
       "      <td>0</td>\n",
       "      <td>Hungary</td>\n",
       "      <td>2009</td>\n",
       "      <td>11.9</td>\n",
       "      <td>0.245</td>\n",
       "      <td>95.369304</td>\n",
       "    </tr>\n",
       "    <tr>\n",
       "      <th>1</th>\n",
       "      <td>1</td>\n",
       "      <td>Hungary</td>\n",
       "      <td>2015</td>\n",
       "      <td>9.0</td>\n",
       "      <td>0.291</td>\n",
       "      <td>111.384411</td>\n",
       "    </tr>\n",
       "    <tr>\n",
       "      <th>2</th>\n",
       "      <td>2</td>\n",
       "      <td>Poland</td>\n",
       "      <td>2009</td>\n",
       "      <td>16.3</td>\n",
       "      <td>0.305</td>\n",
       "      <td>97.484226</td>\n",
       "    </tr>\n",
       "    <tr>\n",
       "      <th>3</th>\n",
       "      <td>3</td>\n",
       "      <td>Poland</td>\n",
       "      <td>2010</td>\n",
       "      <td>18.3</td>\n",
       "      <td>0.307</td>\n",
       "      <td>100.000000</td>\n",
       "    </tr>\n",
       "    <tr>\n",
       "      <th>4</th>\n",
       "      <td>4</td>\n",
       "      <td>Poland</td>\n",
       "      <td>2011</td>\n",
       "      <td>17.0</td>\n",
       "      <td>0.304</td>\n",
       "      <td>104.239401</td>\n",
       "    </tr>\n",
       "  </tbody>\n",
       "</table>\n",
       "</div>"
      ],
      "text/plain": [
       "   Unnamed: 0  Country  Year  Union %   Gini         CPI\n",
       "0           0  Hungary  2009     11.9  0.245   95.369304\n",
       "1           1  Hungary  2015      9.0  0.291  111.384411\n",
       "2           2   Poland  2009     16.3  0.305   97.484226\n",
       "3           3   Poland  2010     18.3  0.307  100.000000\n",
       "4           4   Poland  2011     17.0  0.304  104.239401"
      ]
     },
     "execution_count": 17,
     "metadata": {},
     "output_type": "execute_result"
    }
   ],
   "source": [
    "#import csv file from OECD\n",
    "data_file_path = os.path.join(\"Resources\", \"data_working.csv\")\n",
    "data_file_df = pd.read_csv(data_file_path)\n",
    "data_file_df.head()"
   ]
  },
  {
   "cell_type": "code",
   "execution_count": 18,
   "metadata": {},
   "outputs": [],
   "source": [
    "#Create lists of countries based on their 2020 ITUC ratings\n",
    "list5 = [\"Greece\",\"Korea\",\"Turkey\"]\n",
    "list4 = [\"Mexico\",\"United States\",\"Chile\"]\n",
    "list3 = [\"Australia\",\"Hungary\",\"Poland\",\"United Kingdom\"]\n",
    "list2 = [\"Belgium\",\"Canada\",\"Czech Republic\",\"Spain\",\"Estonia\",\"France\",\"Israel\",\"Japan\",\"Latvia\",\"Lithuania\",\"New Zealand\",\"Portugal\",\"Switzerland\"]\n",
    "list1 = [\"Austria\",\"Denmark\",\"Finland\",\"Germany\",\"Iceland\",\"Ireland\",\"Italy\",\"Netherlands\",\"Norway\",\"Slovak Republic\",\"Sweden\"]"
   ]
  },
  {
   "cell_type": "code",
   "execution_count": 19,
   "metadata": {},
   "outputs": [],
   "source": [
    "#Create a list of the countries\n",
    "#OECD countries not included: Luxembourg and Slovenia\n",
    "countries=[\"Greece\",\"Korea\",\"Turkey\",\"Mexico\",\"United States\",\"Chile\",\"Australia\",\"Canada\",\n",
    "                 \"Hungary\",\"Poland\",\"Spain\",\"United Kingdom\",\n",
    "                \"Belgium\",\"Czech Republic\",\"Estonia\",\"France\",\"Israel\",\"Japan\",\"Latvia\",\"Lithuania\",\"New Zealand\",\n",
    "                 \"Portugal\",\"Switzerland\",\"Austria\",\"Denmark\",\"Finland\",\"Germany\",\"Iceland\",\"Ireland\",\"Italy\",\n",
    "                 \"Netherlands\",\"Norway\",\"Slovak Republic\",\"Sweden\"]"
   ]
  },
  {
   "cell_type": "code",
   "execution_count": 20,
   "metadata": {},
   "outputs": [
    {
     "data": {
      "text/html": [
       "<div>\n",
       "<style scoped>\n",
       "    .dataframe tbody tr th:only-of-type {\n",
       "        vertical-align: middle;\n",
       "    }\n",
       "\n",
       "    .dataframe tbody tr th {\n",
       "        vertical-align: top;\n",
       "    }\n",
       "\n",
       "    .dataframe thead th {\n",
       "        text-align: right;\n",
       "    }\n",
       "</style>\n",
       "<table border=\"1\" class=\"dataframe\">\n",
       "  <thead>\n",
       "    <tr style=\"text-align: right;\">\n",
       "      <th></th>\n",
       "      <th>Country</th>\n",
       "    </tr>\n",
       "  </thead>\n",
       "  <tbody>\n",
       "    <tr>\n",
       "      <th>0</th>\n",
       "      <td>Greece</td>\n",
       "    </tr>\n",
       "    <tr>\n",
       "      <th>1</th>\n",
       "      <td>South Korea</td>\n",
       "    </tr>\n",
       "    <tr>\n",
       "      <th>2</th>\n",
       "      <td>Turkey</td>\n",
       "    </tr>\n",
       "    <tr>\n",
       "      <th>3</th>\n",
       "      <td>Mexico</td>\n",
       "    </tr>\n",
       "    <tr>\n",
       "      <th>4</th>\n",
       "      <td>United States of America</td>\n",
       "    </tr>\n",
       "  </tbody>\n",
       "</table>\n",
       "</div>"
      ],
      "text/plain": [
       "                    Country\n",
       "0                    Greece\n",
       "1               South Korea\n",
       "2                    Turkey\n",
       "3                    Mexico\n",
       "4  United States of America"
      ]
     },
     "execution_count": 20,
     "metadata": {},
     "output_type": "execute_result"
    }
   ],
   "source": [
    "#Create a data frame from the lists\n",
    "dict={\"Country\":[\"Greece\",\"South Korea\",\"Turkey\",\"Mexico\",\"United States of America\",\"Chile\",\"Australia\",\"Canada\",\n",
    "                 \"Hungary\",\"Poland\",\"Spain\",\"United Kingdom\",\n",
    "                \"Belgium\",\"Czech Republic\",\"Estonia\",\"France\",\"Israel\",\"Japan\",\"Latvia\",\"Lithuania\",\"New Zealand\",\n",
    "                 \"Portugal\",\"Switzerland\",\"Austria\",\"Denmark\",\"Finland\",\"Germany\",\"Iceland\",\"Ireland\",\"Italy\",\n",
    "                 \"Netherlands\",\"Norway\",\"Slovakia\",\"Sweden\"]}\n",
    "\n",
    "df=pd.DataFrame(dict)\n",
    "df.head()"
   ]
  },
  {
   "cell_type": "code",
   "execution_count": 21,
   "metadata": {},
   "outputs": [],
   "source": [
    "#Create a list of each countries rating\n",
    "my_list=[]\n",
    "for country in countries:\n",
    "    if country in list5:\n",
    "        my_list.append(5)\n",
    "    if country in list4:\n",
    "        my_list.append(4)\n",
    "    if country in list3:\n",
    "        my_list.append(3)\n",
    "    if country in list2:\n",
    "        my_list.append(2)\n",
    "    if country in list1:\n",
    "        my_list.append(1)"
   ]
  },
  {
   "cell_type": "code",
   "execution_count": 22,
   "metadata": {},
   "outputs": [
    {
     "data": {
      "text/plain": [
       "<zip at 0x2099a8b4c40>"
      ]
     },
     "execution_count": 22,
     "metadata": {},
     "output_type": "execute_result"
    }
   ],
   "source": [
    "#Create a dictionary of the countries and their ratings\n",
    "new_dict=zip(countries,my_list)\n",
    "new_dict"
   ]
  },
  {
   "cell_type": "code",
   "execution_count": 23,
   "metadata": {},
   "outputs": [
    {
     "data": {
      "text/html": [
       "<div>\n",
       "<style scoped>\n",
       "    .dataframe tbody tr th:only-of-type {\n",
       "        vertical-align: middle;\n",
       "    }\n",
       "\n",
       "    .dataframe tbody tr th {\n",
       "        vertical-align: top;\n",
       "    }\n",
       "\n",
       "    .dataframe thead th {\n",
       "        text-align: right;\n",
       "    }\n",
       "</style>\n",
       "<table border=\"1\" class=\"dataframe\">\n",
       "  <thead>\n",
       "    <tr style=\"text-align: right;\">\n",
       "      <th></th>\n",
       "      <th>0</th>\n",
       "      <th>1</th>\n",
       "    </tr>\n",
       "  </thead>\n",
       "  <tbody>\n",
       "    <tr>\n",
       "      <th>0</th>\n",
       "      <td>Greece</td>\n",
       "      <td>5</td>\n",
       "    </tr>\n",
       "    <tr>\n",
       "      <th>1</th>\n",
       "      <td>Korea</td>\n",
       "      <td>5</td>\n",
       "    </tr>\n",
       "    <tr>\n",
       "      <th>2</th>\n",
       "      <td>Turkey</td>\n",
       "      <td>5</td>\n",
       "    </tr>\n",
       "    <tr>\n",
       "      <th>3</th>\n",
       "      <td>Mexico</td>\n",
       "      <td>4</td>\n",
       "    </tr>\n",
       "    <tr>\n",
       "      <th>4</th>\n",
       "      <td>United States</td>\n",
       "      <td>4</td>\n",
       "    </tr>\n",
       "  </tbody>\n",
       "</table>\n",
       "</div>"
      ],
      "text/plain": [
       "               0  1\n",
       "0         Greece  5\n",
       "1          Korea  5\n",
       "2         Turkey  5\n",
       "3         Mexico  4\n",
       "4  United States  4"
      ]
     },
     "execution_count": 23,
     "metadata": {},
     "output_type": "execute_result"
    }
   ],
   "source": [
    "#turn the dictionary into a dataframe\n",
    "df1=pd.DataFrame(new_dict)\n",
    "df1.head()"
   ]
  },
  {
   "cell_type": "code",
   "execution_count": 24,
   "metadata": {},
   "outputs": [
    {
     "data": {
      "text/html": [
       "<div>\n",
       "<style scoped>\n",
       "    .dataframe tbody tr th:only-of-type {\n",
       "        vertical-align: middle;\n",
       "    }\n",
       "\n",
       "    .dataframe tbody tr th {\n",
       "        vertical-align: top;\n",
       "    }\n",
       "\n",
       "    .dataframe thead th {\n",
       "        text-align: right;\n",
       "    }\n",
       "</style>\n",
       "<table border=\"1\" class=\"dataframe\">\n",
       "  <thead>\n",
       "    <tr style=\"text-align: right;\">\n",
       "      <th></th>\n",
       "      <th>Country</th>\n",
       "      <th>Score</th>\n",
       "    </tr>\n",
       "  </thead>\n",
       "  <tbody>\n",
       "    <tr>\n",
       "      <th>0</th>\n",
       "      <td>Greece</td>\n",
       "      <td>5</td>\n",
       "    </tr>\n",
       "    <tr>\n",
       "      <th>1</th>\n",
       "      <td>Korea</td>\n",
       "      <td>5</td>\n",
       "    </tr>\n",
       "    <tr>\n",
       "      <th>2</th>\n",
       "      <td>Turkey</td>\n",
       "      <td>5</td>\n",
       "    </tr>\n",
       "    <tr>\n",
       "      <th>3</th>\n",
       "      <td>Mexico</td>\n",
       "      <td>4</td>\n",
       "    </tr>\n",
       "    <tr>\n",
       "      <th>4</th>\n",
       "      <td>United States</td>\n",
       "      <td>4</td>\n",
       "    </tr>\n",
       "  </tbody>\n",
       "</table>\n",
       "</div>"
      ],
      "text/plain": [
       "         Country  Score\n",
       "0         Greece      5\n",
       "1          Korea      5\n",
       "2         Turkey      5\n",
       "3         Mexico      4\n",
       "4  United States      4"
      ]
     },
     "execution_count": 24,
     "metadata": {},
     "output_type": "execute_result"
    }
   ],
   "source": [
    "#change column headers\n",
    "df1=df1.rename(columns={0:\"Country\",1:\"Score\"})\n",
    "df1.head()"
   ]
  },
  {
   "cell_type": "code",
   "execution_count": 25,
   "metadata": {},
   "outputs": [
    {
     "data": {
      "text/html": [
       "<div>\n",
       "<style scoped>\n",
       "    .dataframe tbody tr th:only-of-type {\n",
       "        vertical-align: middle;\n",
       "    }\n",
       "\n",
       "    .dataframe tbody tr th {\n",
       "        vertical-align: top;\n",
       "    }\n",
       "\n",
       "    .dataframe thead th {\n",
       "        text-align: right;\n",
       "    }\n",
       "</style>\n",
       "<table border=\"1\" class=\"dataframe\">\n",
       "  <thead>\n",
       "    <tr style=\"text-align: right;\">\n",
       "      <th></th>\n",
       "      <th>Country</th>\n",
       "      <th>Year</th>\n",
       "      <th>Union %</th>\n",
       "      <th>Gini</th>\n",
       "      <th>CPI</th>\n",
       "    </tr>\n",
       "  </thead>\n",
       "  <tbody>\n",
       "    <tr>\n",
       "      <th>0</th>\n",
       "      <td>Hungary</td>\n",
       "      <td>2009</td>\n",
       "      <td>11.9</td>\n",
       "      <td>0.245</td>\n",
       "      <td>95.369304</td>\n",
       "    </tr>\n",
       "    <tr>\n",
       "      <th>1</th>\n",
       "      <td>Hungary</td>\n",
       "      <td>2015</td>\n",
       "      <td>9.0</td>\n",
       "      <td>0.291</td>\n",
       "      <td>111.384411</td>\n",
       "    </tr>\n",
       "    <tr>\n",
       "      <th>2</th>\n",
       "      <td>Poland</td>\n",
       "      <td>2009</td>\n",
       "      <td>16.3</td>\n",
       "      <td>0.305</td>\n",
       "      <td>97.484226</td>\n",
       "    </tr>\n",
       "    <tr>\n",
       "      <th>3</th>\n",
       "      <td>Poland</td>\n",
       "      <td>2010</td>\n",
       "      <td>18.3</td>\n",
       "      <td>0.307</td>\n",
       "      <td>100.000000</td>\n",
       "    </tr>\n",
       "    <tr>\n",
       "      <th>4</th>\n",
       "      <td>Poland</td>\n",
       "      <td>2011</td>\n",
       "      <td>17.0</td>\n",
       "      <td>0.304</td>\n",
       "      <td>104.239401</td>\n",
       "    </tr>\n",
       "  </tbody>\n",
       "</table>\n",
       "</div>"
      ],
      "text/plain": [
       "   Country  Year  Union %   Gini         CPI\n",
       "0  Hungary  2009     11.9  0.245   95.369304\n",
       "1  Hungary  2015      9.0  0.291  111.384411\n",
       "2   Poland  2009     16.3  0.305   97.484226\n",
       "3   Poland  2010     18.3  0.307  100.000000\n",
       "4   Poland  2011     17.0  0.304  104.239401"
      ]
     },
     "execution_count": 25,
     "metadata": {},
     "output_type": "execute_result"
    }
   ],
   "source": [
    "#format the data_file_df\n",
    "data_df=data_file_df.drop([\"Unnamed: 0\"],axis=1)\n",
    "data_df.head()"
   ]
  },
  {
   "cell_type": "code",
   "execution_count": 26,
   "metadata": {
    "scrolled": true
   },
   "outputs": [
    {
     "data": {
      "text/html": [
       "<div>\n",
       "<style scoped>\n",
       "    .dataframe tbody tr th:only-of-type {\n",
       "        vertical-align: middle;\n",
       "    }\n",
       "\n",
       "    .dataframe tbody tr th {\n",
       "        vertical-align: top;\n",
       "    }\n",
       "\n",
       "    .dataframe thead th {\n",
       "        text-align: right;\n",
       "    }\n",
       "</style>\n",
       "<table border=\"1\" class=\"dataframe\">\n",
       "  <thead>\n",
       "    <tr style=\"text-align: right;\">\n",
       "      <th></th>\n",
       "      <th>Country</th>\n",
       "      <th>Year</th>\n",
       "      <th>Union %</th>\n",
       "      <th>Gini</th>\n",
       "      <th>CPI</th>\n",
       "      <th>Score</th>\n",
       "    </tr>\n",
       "  </thead>\n",
       "  <tbody>\n",
       "    <tr>\n",
       "      <th>0</th>\n",
       "      <td>Hungary</td>\n",
       "      <td>2009</td>\n",
       "      <td>11.9</td>\n",
       "      <td>0.245</td>\n",
       "      <td>95.369304</td>\n",
       "      <td>3.0</td>\n",
       "    </tr>\n",
       "    <tr>\n",
       "      <th>1</th>\n",
       "      <td>Hungary</td>\n",
       "      <td>2015</td>\n",
       "      <td>9.0</td>\n",
       "      <td>0.291</td>\n",
       "      <td>111.384411</td>\n",
       "      <td>3.0</td>\n",
       "    </tr>\n",
       "    <tr>\n",
       "      <th>2</th>\n",
       "      <td>Poland</td>\n",
       "      <td>2009</td>\n",
       "      <td>16.3</td>\n",
       "      <td>0.305</td>\n",
       "      <td>97.484226</td>\n",
       "      <td>3.0</td>\n",
       "    </tr>\n",
       "    <tr>\n",
       "      <th>3</th>\n",
       "      <td>Poland</td>\n",
       "      <td>2010</td>\n",
       "      <td>18.3</td>\n",
       "      <td>0.307</td>\n",
       "      <td>100.000000</td>\n",
       "      <td>3.0</td>\n",
       "    </tr>\n",
       "    <tr>\n",
       "      <th>4</th>\n",
       "      <td>Poland</td>\n",
       "      <td>2011</td>\n",
       "      <td>17.0</td>\n",
       "      <td>0.304</td>\n",
       "      <td>104.239401</td>\n",
       "      <td>3.0</td>\n",
       "    </tr>\n",
       "  </tbody>\n",
       "</table>\n",
       "</div>"
      ],
      "text/plain": [
       "   Country  Year  Union %   Gini         CPI  Score\n",
       "0  Hungary  2009     11.9  0.245   95.369304    3.0\n",
       "1  Hungary  2015      9.0  0.291  111.384411    3.0\n",
       "2   Poland  2009     16.3  0.305   97.484226    3.0\n",
       "3   Poland  2010     18.3  0.307  100.000000    3.0\n",
       "4   Poland  2011     17.0  0.304  104.239401    3.0"
      ]
     },
     "execution_count": 26,
     "metadata": {},
     "output_type": "execute_result"
    }
   ],
   "source": [
    "#merge the ITUC ratings to the data from the OECD\n",
    "result_df=data_df.merge(df1,how=\"left\",on=\"Country\")\n",
    "result_df.head()"
   ]
  },
  {
   "cell_type": "code",
   "execution_count": 27,
   "metadata": {},
   "outputs": [],
   "source": [
    "result_df.to_csv(os.path.join(\"Resources\",\"ITUC.csv\"))"
   ]
  },
  {
   "cell_type": "code",
   "execution_count": 28,
   "metadata": {},
   "outputs": [
    {
     "data": {
      "text/html": [
       "<div>\n",
       "<style scoped>\n",
       "    .dataframe tbody tr th:only-of-type {\n",
       "        vertical-align: middle;\n",
       "    }\n",
       "\n",
       "    .dataframe tbody tr th {\n",
       "        vertical-align: top;\n",
       "    }\n",
       "\n",
       "    .dataframe thead th {\n",
       "        text-align: right;\n",
       "    }\n",
       "</style>\n",
       "<table border=\"1\" class=\"dataframe\">\n",
       "  <thead>\n",
       "    <tr style=\"text-align: right;\">\n",
       "      <th></th>\n",
       "      <th>Year</th>\n",
       "      <th>Union %</th>\n",
       "      <th>Gini</th>\n",
       "      <th>CPI</th>\n",
       "    </tr>\n",
       "    <tr>\n",
       "      <th>Score</th>\n",
       "      <th></th>\n",
       "      <th></th>\n",
       "      <th></th>\n",
       "      <th></th>\n",
       "    </tr>\n",
       "  </thead>\n",
       "  <tbody>\n",
       "    <tr>\n",
       "      <th>1.0</th>\n",
       "      <td>2013.130000</td>\n",
       "      <td>44.382000</td>\n",
       "      <td>0.278650</td>\n",
       "      <td>105.844315</td>\n",
       "    </tr>\n",
       "    <tr>\n",
       "      <th>2.0</th>\n",
       "      <td>2013.244898</td>\n",
       "      <td>17.117347</td>\n",
       "      <td>0.312929</td>\n",
       "      <td>105.317112</td>\n",
       "    </tr>\n",
       "    <tr>\n",
       "      <th>3.0</th>\n",
       "      <td>2013.482759</td>\n",
       "      <td>17.410345</td>\n",
       "      <td>0.318931</td>\n",
       "      <td>108.275392</td>\n",
       "    </tr>\n",
       "    <tr>\n",
       "      <th>4.0</th>\n",
       "      <td>2012.764706</td>\n",
       "      <td>12.464706</td>\n",
       "      <td>0.425706</td>\n",
       "      <td>107.576624</td>\n",
       "    </tr>\n",
       "    <tr>\n",
       "      <th>5.0</th>\n",
       "      <td>2013.153846</td>\n",
       "      <td>12.030769</td>\n",
       "      <td>0.337692</td>\n",
       "      <td>111.650263</td>\n",
       "    </tr>\n",
       "  </tbody>\n",
       "</table>\n",
       "</div>"
      ],
      "text/plain": [
       "              Year    Union %      Gini         CPI\n",
       "Score                                              \n",
       "1.0    2013.130000  44.382000  0.278650  105.844315\n",
       "2.0    2013.244898  17.117347  0.312929  105.317112\n",
       "3.0    2013.482759  17.410345  0.318931  108.275392\n",
       "4.0    2012.764706  12.464706  0.425706  107.576624\n",
       "5.0    2013.153846  12.030769  0.337692  111.650263"
      ]
     },
     "execution_count": 28,
     "metadata": {},
     "output_type": "execute_result"
    }
   ],
   "source": [
    "#group the countries by their rating and determine the average Gini coefficient and union density for each score\n",
    "gini_v_score=result_df.groupby(\"Score\").mean()\n",
    "gini_v_score"
   ]
  },
  {
   "cell_type": "code",
   "execution_count": 29,
   "metadata": {},
   "outputs": [
    {
     "data": {
      "text/html": [
       "<div>\n",
       "<style scoped>\n",
       "    .dataframe tbody tr th:only-of-type {\n",
       "        vertical-align: middle;\n",
       "    }\n",
       "\n",
       "    .dataframe tbody tr th {\n",
       "        vertical-align: top;\n",
       "    }\n",
       "\n",
       "    .dataframe thead th {\n",
       "        text-align: right;\n",
       "    }\n",
       "</style>\n",
       "<table border=\"1\" class=\"dataframe\">\n",
       "  <thead>\n",
       "    <tr style=\"text-align: right;\">\n",
       "      <th></th>\n",
       "      <th>Score</th>\n",
       "      <th>Year</th>\n",
       "      <th>Union %</th>\n",
       "      <th>Gini</th>\n",
       "      <th>CPI</th>\n",
       "    </tr>\n",
       "  </thead>\n",
       "  <tbody>\n",
       "    <tr>\n",
       "      <th>0</th>\n",
       "      <td>1.0</td>\n",
       "      <td>2013.130000</td>\n",
       "      <td>44.382000</td>\n",
       "      <td>0.278650</td>\n",
       "      <td>105.844315</td>\n",
       "    </tr>\n",
       "    <tr>\n",
       "      <th>1</th>\n",
       "      <td>2.0</td>\n",
       "      <td>2013.244898</td>\n",
       "      <td>17.117347</td>\n",
       "      <td>0.312929</td>\n",
       "      <td>105.317112</td>\n",
       "    </tr>\n",
       "    <tr>\n",
       "      <th>2</th>\n",
       "      <td>3.0</td>\n",
       "      <td>2013.482759</td>\n",
       "      <td>17.410345</td>\n",
       "      <td>0.318931</td>\n",
       "      <td>108.275392</td>\n",
       "    </tr>\n",
       "    <tr>\n",
       "      <th>3</th>\n",
       "      <td>4.0</td>\n",
       "      <td>2012.764706</td>\n",
       "      <td>12.464706</td>\n",
       "      <td>0.425706</td>\n",
       "      <td>107.576624</td>\n",
       "    </tr>\n",
       "    <tr>\n",
       "      <th>4</th>\n",
       "      <td>5.0</td>\n",
       "      <td>2013.153846</td>\n",
       "      <td>12.030769</td>\n",
       "      <td>0.337692</td>\n",
       "      <td>111.650263</td>\n",
       "    </tr>\n",
       "  </tbody>\n",
       "</table>\n",
       "</div>"
      ],
      "text/plain": [
       "   Score         Year    Union %      Gini         CPI\n",
       "0    1.0  2013.130000  44.382000  0.278650  105.844315\n",
       "1    2.0  2013.244898  17.117347  0.312929  105.317112\n",
       "2    3.0  2013.482759  17.410345  0.318931  108.275392\n",
       "3    4.0  2012.764706  12.464706  0.425706  107.576624\n",
       "4    5.0  2013.153846  12.030769  0.337692  111.650263"
      ]
     },
     "execution_count": 29,
     "metadata": {},
     "output_type": "execute_result"
    }
   ],
   "source": [
    "#reset the index and turn the groupby object into a data frame\n",
    "gini_v_score_df=gini_v_score.reset_index()\n",
    "gini_v_score_df"
   ]
  },
  {
   "cell_type": "code",
   "execution_count": 30,
   "metadata": {},
   "outputs": [
    {
     "data": {
      "text/html": [
       "<div>\n",
       "<style scoped>\n",
       "    .dataframe tbody tr th:only-of-type {\n",
       "        vertical-align: middle;\n",
       "    }\n",
       "\n",
       "    .dataframe tbody tr th {\n",
       "        vertical-align: top;\n",
       "    }\n",
       "\n",
       "    .dataframe thead th {\n",
       "        text-align: right;\n",
       "    }\n",
       "</style>\n",
       "<table border=\"1\" class=\"dataframe\">\n",
       "  <thead>\n",
       "    <tr style=\"text-align: right;\">\n",
       "      <th></th>\n",
       "      <th>Gini</th>\n",
       "      <th>Union %</th>\n",
       "      <th>Score</th>\n",
       "    </tr>\n",
       "  </thead>\n",
       "  <tbody>\n",
       "    <tr>\n",
       "      <th>0</th>\n",
       "      <td>0.278650</td>\n",
       "      <td>44.382000</td>\n",
       "      <td>1.0</td>\n",
       "    </tr>\n",
       "    <tr>\n",
       "      <th>1</th>\n",
       "      <td>0.312929</td>\n",
       "      <td>17.117347</td>\n",
       "      <td>2.0</td>\n",
       "    </tr>\n",
       "    <tr>\n",
       "      <th>2</th>\n",
       "      <td>0.318931</td>\n",
       "      <td>17.410345</td>\n",
       "      <td>3.0</td>\n",
       "    </tr>\n",
       "    <tr>\n",
       "      <th>3</th>\n",
       "      <td>0.425706</td>\n",
       "      <td>12.464706</td>\n",
       "      <td>4.0</td>\n",
       "    </tr>\n",
       "    <tr>\n",
       "      <th>4</th>\n",
       "      <td>0.337692</td>\n",
       "      <td>12.030769</td>\n",
       "      <td>5.0</td>\n",
       "    </tr>\n",
       "  </tbody>\n",
       "</table>\n",
       "</div>"
      ],
      "text/plain": [
       "       Gini    Union %  Score\n",
       "0  0.278650  44.382000    1.0\n",
       "1  0.312929  17.117347    2.0\n",
       "2  0.318931  17.410345    3.0\n",
       "3  0.425706  12.464706    4.0\n",
       "4  0.337692  12.030769    5.0"
      ]
     },
     "execution_count": 30,
     "metadata": {},
     "output_type": "execute_result"
    }
   ],
   "source": [
    "#remove year and CPI columns\n",
    "df2=gini_v_score_df[[\"Gini\",\"Union %\",\"Score\"]]\n",
    "df2"
   ]
  },
  {
   "cell_type": "code",
   "execution_count": 42,
   "metadata": {},
   "outputs": [
    {
     "data": {
      "image/png": "[encoded data removed]",
      "text/plain": [
       "<Figure size 432x288 with 1 Axes>"
      ]
     },
     "metadata": {
      "needs_background": "light"
     },
     "output_type": "display_data"
    }
   ],
   "source": [
    "import matplotlib.colors as mcolors\n",
    "#create bar plot for rating and Gini coefficient\n",
    "df2.plot.bar(\"Score\",\"Gini\",color=\"m\")\n",
    "plt.title(\"Gini Coefficent and ITUC Rating\")\n",
    "plt.xlabel(\"ITUC Rating\")\n",
    "plt.ylabel(\"Average Gini Coefficient\")\n",
    "plt.savefig(os.path.join(\"Output\",\"gvr.png\"))"
   ]
  },
  {
   "cell_type": "code",
   "execution_count": 32,
   "metadata": {},
   "outputs": [
    {
     "data": {
      "text/plain": [
       "<AxesSubplot:xlabel='Gini', ylabel='Union %'>"
      ]
     },
     "execution_count": 32,
     "metadata": {},
     "output_type": "execute_result"
    },
    {
     "data": {
      "image/png": "[encoded data removed]",
      "text/plain": [
       "<Figure size 432x288 with 1 Axes>"
      ]
     },
     "metadata": {
      "needs_background": "light"
     },
     "output_type": "display_data"
    }
   ],
   "source": [
    "df2.plot.scatter(\"Gini\",\"Union %\")"
   ]
  },
  {
   "cell_type": "code",
   "execution_count": null,
   "metadata": {},
   "outputs": [],
   "source": []
  },
  {
   "cell_type": "code",
   "execution_count": null,
   "metadata": {},
   "outputs": [],
   "source": []
  }
 ],
 "metadata": {
  "kernelspec": {
   "display_name": "Python 3",
   "language": "python",
   "name": "python3"
  },
  "language_info": {
   "codemirror_mode": {
    "name": "ipython",
    "version": 3
   },
   "file_extension": ".py",
   "mimetype": "text/x-python",
   "name": "python",
   "nbconvert_exporter": "python",
   "pygments_lexer": "ipython3",
   "version": "3.8.5"
  }
 },
 "nbformat": 4,
 "nbformat_minor": 4
}
